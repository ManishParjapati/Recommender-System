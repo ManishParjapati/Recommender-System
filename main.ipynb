{
 "cells": [
  {
   "cell_type": "code",
   "execution_count": null,
   "id": "56bc393f",
   "metadata": {},
   "outputs": [],
   "source": [
    "import numpy as np\n",
    "import pandas as pd"
   ]
  },
  {
   "cell_type": "code",
   "execution_count": null,
   "id": "f8a92dec",
   "metadata": {},
   "outputs": [],
   "source": [
    "movie = pd.read_csv('tmdb_5000_movies.csv')\n",
    "credits = pd.read_csv('tmdb_5000_credits.csv')"
   ]
  },
  {
   "cell_type": "code",
   "execution_count": null,
   "id": "5f091504",
   "metadata": {},
   "outputs": [],
   "source": [
    "movie.head()"
   ]
  },
  {
   "cell_type": "code",
   "execution_count": null,
   "id": "d2bdc72e",
   "metadata": {},
   "outputs": [],
   "source": [
    "movie = movie.merge(credits, on='title')"
   ]
  },
  {
   "cell_type": "code",
   "execution_count": null,
   "id": "2f1282f4",
   "metadata": {},
   "outputs": [],
   "source": [
    "movie = movie[['id', 'title', 'genres', 'keywords', 'overview', 'cast', 'crew']]"
   ]
  },
  {
   "cell_type": "code",
   "execution_count": null,
   "id": "68c3c887",
   "metadata": {},
   "outputs": [],
   "source": [
    "movie.isnull().sum()"
   ]
  },
  {
   "cell_type": "code",
   "execution_count": null,
   "id": "6c3bdd3e",
   "metadata": {},
   "outputs": [],
   "source": [
    "movie.dropna(inplace=True)"
   ]
  },
  {
   "cell_type": "code",
   "execution_count": null,
   "id": "93d0a264",
   "metadata": {},
   "outputs": [],
   "source": [
    "movie.duplicated().sum()"
   ]
  },
  {
   "cell_type": "code",
   "execution_count": null,
   "id": "d1f3d844",
   "metadata": {},
   "outputs": [],
   "source": [
    "movie['genres'][0]"
   ]
  },
  {
   "cell_type": "code",
   "execution_count": null,
   "id": "c8c5cfd3",
   "metadata": {},
   "outputs": [],
   "source": [
    "import ast"
   ]
  },
  {
   "cell_type": "code",
   "execution_count": null,
   "id": "9f751f49",
   "metadata": {},
   "outputs": [],
   "source": [
    "def func1(obj):\n",
    "    L = []\n",
    "    for i in ast.literal_eval(obj):\n",
    "        L.append(i['name'])\n",
    "    \n",
    "    return L"
   ]
  },
  {
   "cell_type": "code",
   "execution_count": null,
   "id": "ed57f4dd",
   "metadata": {},
   "outputs": [],
   "source": [
    "movie['genres'] = movie['genres'].apply(func1)"
   ]
  },
  {
   "cell_type": "code",
   "execution_count": null,
   "id": "061888d5",
   "metadata": {},
   "outputs": [],
   "source": [
    "movie.head()"
   ]
  },
  {
   "cell_type": "code",
   "execution_count": null,
   "id": "b7f8cd1d",
   "metadata": {},
   "outputs": [],
   "source": [
    "movie['keywords'][0]"
   ]
  },
  {
   "cell_type": "code",
   "execution_count": null,
   "id": "2b86c96c",
   "metadata": {},
   "outputs": [],
   "source": [
    "def func2(obj):\n",
    "    L = []\n",
    "    for i in ast.literal_eval(obj):\n",
    "        L.append(i['name'])\n",
    "    \n",
    "    return L\n"
   ]
  },
  {
   "cell_type": "code",
   "execution_count": null,
   "id": "baa0e525",
   "metadata": {},
   "outputs": [],
   "source": [
    "movie['keywords'] = movie['keywords'].apply(func2)"
   ]
  },
  {
   "cell_type": "code",
   "execution_count": null,
   "id": "d9bebfab",
   "metadata": {},
   "outputs": [],
   "source": [
    "movie['cast'][0]"
   ]
  },
  {
   "cell_type": "code",
   "execution_count": null,
   "id": "0f775aa5",
   "metadata": {},
   "outputs": [],
   "source": [
    "def func3(obj):\n",
    "    L = []\n",
    "    count = 0\n",
    "    for i in ast.literal_eval(obj):\n",
    "        if count != 3:\n",
    "            L.append(i['name'])\n",
    "            count += 1\n",
    "        else:\n",
    "            break\n",
    "    \n",
    "    return L"
   ]
  },
  {
   "cell_type": "code",
   "execution_count": null,
   "id": "bb7ecd91",
   "metadata": {},
   "outputs": [],
   "source": [
    "movie['cast'] = movie['cast'].apply(func3)"
   ]
  },
  {
   "cell_type": "code",
   "execution_count": null,
   "id": "691e6bd6",
   "metadata": {},
   "outputs": [],
   "source": [
    "movie['crew'][0]"
   ]
  },
  {
   "cell_type": "code",
   "execution_count": null,
   "id": "49b4fea5",
   "metadata": {},
   "outputs": [],
   "source": [
    "def func4(obj):\n",
    "    L = []\n",
    "    for i in ast.literal_eval(obj):\n",
    "        if i['job'] == 'Director':\n",
    "            L.append(i['name'])\n",
    "            break\n",
    "    \n",
    "    return L"
   ]
  },
  {
   "cell_type": "code",
   "execution_count": null,
   "id": "a5d553be",
   "metadata": {},
   "outputs": [],
   "source": [
    "movie['crew'] = movie['crew'].apply(func4)"
   ]
  },
  {
   "cell_type": "code",
   "execution_count": null,
   "id": "babc263f",
   "metadata": {},
   "outputs": [],
   "source": [
    "movie['genres'] = movie['genres'].apply(lambda x:[i.replace(\" \", \"\") for i in x])\n",
    "movie['keywords'] = movie['keywords'].apply(lambda x:[i.replace(\" \", \"\") for i in x])\n",
    "movie['cast'] = movie['cast'].apply(lambda x:[i.replace(\" \", \"\") for i in x])\n",
    "movie['crew'] = movie['crew'].apply(lambda x:[i.replace(\" \", \"\") for i in x])"
   ]
  },
  {
   "cell_type": "code",
   "execution_count": null,
   "id": "884416a7",
   "metadata": {},
   "outputs": [],
   "source": [
    "movie['overview'] = movie['overview'].apply(lambda x:x.split())"
   ]
  },
  {
   "cell_type": "code",
   "execution_count": null,
   "id": "a05b707e",
   "metadata": {},
   "outputs": [],
   "source": [
    "movie['tags'] = movie['overview'] + movie['genres'] + movie['keywords'] + movie['cast'] + movie['crew']"
   ]
  },
  {
   "cell_type": "code",
   "execution_count": null,
   "id": "1a9d454e",
   "metadata": {},
   "outputs": [],
   "source": [
    "new_df = movie[['id', 'title', 'tags']]"
   ]
  },
  {
   "cell_type": "code",
   "execution_count": null,
   "id": "b80880c3",
   "metadata": {},
   "outputs": [],
   "source": [
    "new_df.head()"
   ]
  },
  {
   "cell_type": "code",
   "execution_count": null,
   "id": "09b241e1",
   "metadata": {},
   "outputs": [],
   "source": [
    "new_df['tags'] = new_df['tags'].apply(lambda x:\" \".join(x))"
   ]
  },
  {
   "cell_type": "code",
   "execution_count": null,
   "id": "55f3338f",
   "metadata": {},
   "outputs": [],
   "source": [
    "new_df['tags'] = new_df['tags'].apply(lambda x:x.lower())"
   ]
  },
  {
   "cell_type": "code",
   "execution_count": null,
   "id": "604c1fdb",
   "metadata": {},
   "outputs": [],
   "source": [
    "new_df['tags'][0]"
   ]
  },
  {
   "cell_type": "code",
   "execution_count": null,
   "id": "64dbe164",
   "metadata": {},
   "outputs": [],
   "source": [
    "pip install nltk"
   ]
  },
  {
   "cell_type": "code",
   "execution_count": null,
   "id": "a9c8f0b4",
   "metadata": {},
   "outputs": [],
   "source": [
    "import nltk"
   ]
  },
  {
   "cell_type": "code",
   "execution_count": null,
   "id": "0f81e08e",
   "metadata": {},
   "outputs": [],
   "source": [
    "from nltk.stem.porter import PorterStemmer\n",
    "ps = PorterStemmer()"
   ]
  },
  {
   "cell_type": "code",
   "execution_count": null,
   "id": "512e8c42",
   "metadata": {},
   "outputs": [],
   "source": [
    "def stem(val):\n",
    "    new = []\n",
    "    for i in val.split():\n",
    "        new.append(ps.stem(i))\n",
    "        \n",
    "    return \" \".join(new)"
   ]
  },
  {
   "cell_type": "code",
   "execution_count": null,
   "id": "aee3e54a",
   "metadata": {},
   "outputs": [],
   "source": [
    "new_df['tags'] = new_df['tags'].apply(stem)"
   ]
  },
  {
   "cell_type": "code",
   "execution_count": null,
   "id": "4ef9f78c",
   "metadata": {},
   "outputs": [],
   "source": [
    "new_df['tags'][0]"
   ]
  },
  {
   "cell_type": "code",
   "execution_count": null,
   "id": "9452455c",
   "metadata": {},
   "outputs": [],
   "source": [
    "from sklearn.feature_extraction.text import CountVectorizer\n",
    "cv = CountVectorizer(max_features=5000, stop_words='english')\n",
    "vectors = cv.fit_transform(new_df['tags']).toarray()"
   ]
  },
  {
   "cell_type": "code",
   "execution_count": null,
   "id": "60bed04a",
   "metadata": {},
   "outputs": [],
   "source": [
    "from sklearn.metrics.pairwise import cosine_similarity\n",
    "similarity = cosine_similarity(vectors)"
   ]
  },
  {
   "cell_type": "code",
   "execution_count": null,
   "id": "ebb8e7ed",
   "metadata": {},
   "outputs": [],
   "source": [
    "def recommend(mov):\n",
    "    movie_index = new_df[new_df['title'] == mov].index[0]\n",
    "    distances = similarity[movie_index]\n",
    "    movie_list = sorted(list(enumerate(distances)), reverse=True, key=lambda x:x[1])[1:6]\n",
    "    for movie in movie_list:\n",
    "        print(new_df.iloc[movie[0]].title)"
   ]
  },
  {
   "cell_type": "code",
   "execution_count": null,
   "id": "f6ae67ba",
   "metadata": {},
   "outputs": [],
   "source": [
    "recommend('Batman Begins')"
   ]
  },
  {
   "cell_type": "code",
   "execution_count": 72,
   "id": "c828408e",
   "metadata": {},
   "outputs": [],
   "source": [
    "import pickle"
   ]
  },
  {
   "cell_type": "code",
   "execution_count": 75,
   "id": "905614d8",
   "metadata": {},
   "outputs": [],
   "source": [
    "pickle.dump(new_df.to_dict(), open('Movie_list.pkl', 'wb'))"
   ]
  },
  {
   "cell_type": "code",
   "execution_count": 77,
   "id": "60d24e95",
   "metadata": {},
   "outputs": [],
   "source": [
    "pickle.dump(similarity, open('similarity.pkl', 'wb'))"
   ]
  },
  {
   "cell_type": "code",
   "execution_count": null,
   "id": "21f1a480",
   "metadata": {},
   "outputs": [],
   "source": []
  }
 ],
 "metadata": {
  "kernelspec": {
   "display_name": "Python 3 (ipykernel)",
   "language": "python",
   "name": "python3"
  },
  "language_info": {
   "codemirror_mode": {
    "name": "ipython",
    "version": 3
   },
   "file_extension": ".py",
   "mimetype": "text/x-python",
   "name": "python",
   "nbconvert_exporter": "python",
   "pygments_lexer": "ipython3",
   "version": "3.10.11"
  }
 },
 "nbformat": 4,
 "nbformat_minor": 5
}
